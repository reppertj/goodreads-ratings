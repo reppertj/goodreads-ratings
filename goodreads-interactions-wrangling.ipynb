{
 "cells": [
  {
   "cell_type": "code",
   "execution_count": 1,
   "metadata": {},
   "outputs": [],
   "source": [
    "import pandas as pd\n",
    "import jsonlines\n",
    "import numpy as np\n",
    "import scipy\n",
    "import matplotlib as mpl\n",
    "import matplotlib.pyplot as plt\n",
    "import seaborn as sns"
   ]
  },
  {
   "cell_type": "code",
   "execution_count": 2,
   "metadata": {},
   "outputs": [],
   "source": [
    "%matplotlib inline\n",
    "\n",
    "plt.rcParams['figure.figsize'] = (10.0, 8.0)\n",
    "plt.rcParams['font.size'] = 16"
   ]
  },
  {
   "cell_type": "markdown",
   "metadata": {},
   "source": [
    "First, we'll read the data in from a (huge!) CSV file. We'll soon work things down to a more tractable size."
   ]
  },
  {
   "cell_type": "code",
   "execution_count": 3,
   "metadata": {},
   "outputs": [],
   "source": [
    "ints = pd.read_csv('/Volumes/LittleJim/Datasets/goodreads/goodreads_interactions.csv')"
   ]
  },
  {
   "cell_type": "code",
   "execution_count": 4,
   "metadata": {},
   "outputs": [
    {
     "data": {
      "text/html": [
       "<div>\n",
       "<style scoped>\n",
       "    .dataframe tbody tr th:only-of-type {\n",
       "        vertical-align: middle;\n",
       "    }\n",
       "\n",
       "    .dataframe tbody tr th {\n",
       "        vertical-align: top;\n",
       "    }\n",
       "\n",
       "    .dataframe thead th {\n",
       "        text-align: right;\n",
       "    }\n",
       "</style>\n",
       "<table border=\"1\" class=\"dataframe\">\n",
       "  <thead>\n",
       "    <tr style=\"text-align: right;\">\n",
       "      <th></th>\n",
       "      <th>user_id</th>\n",
       "      <th>book_id</th>\n",
       "      <th>is_read</th>\n",
       "      <th>rating</th>\n",
       "      <th>is_reviewed</th>\n",
       "    </tr>\n",
       "  </thead>\n",
       "  <tbody>\n",
       "    <tr>\n",
       "      <th>0</th>\n",
       "      <td>0</td>\n",
       "      <td>948</td>\n",
       "      <td>1</td>\n",
       "      <td>5</td>\n",
       "      <td>0</td>\n",
       "    </tr>\n",
       "    <tr>\n",
       "      <th>1</th>\n",
       "      <td>0</td>\n",
       "      <td>947</td>\n",
       "      <td>1</td>\n",
       "      <td>5</td>\n",
       "      <td>1</td>\n",
       "    </tr>\n",
       "    <tr>\n",
       "      <th>2</th>\n",
       "      <td>0</td>\n",
       "      <td>946</td>\n",
       "      <td>1</td>\n",
       "      <td>5</td>\n",
       "      <td>0</td>\n",
       "    </tr>\n",
       "    <tr>\n",
       "      <th>3</th>\n",
       "      <td>0</td>\n",
       "      <td>945</td>\n",
       "      <td>1</td>\n",
       "      <td>5</td>\n",
       "      <td>0</td>\n",
       "    </tr>\n",
       "    <tr>\n",
       "      <th>4</th>\n",
       "      <td>0</td>\n",
       "      <td>944</td>\n",
       "      <td>1</td>\n",
       "      <td>5</td>\n",
       "      <td>0</td>\n",
       "    </tr>\n",
       "  </tbody>\n",
       "</table>\n",
       "</div>"
      ],
      "text/plain": [
       "   user_id  book_id  is_read  rating  is_reviewed\n",
       "0        0      948        1       5            0\n",
       "1        0      947        1       5            1\n",
       "2        0      946        1       5            0\n",
       "3        0      945        1       5            0\n",
       "4        0      944        1       5            0"
      ]
     },
     "execution_count": 4,
     "metadata": {},
     "output_type": "execute_result"
    }
   ],
   "source": [
    "ints.head()"
   ]
  },
  {
   "cell_type": "code",
   "execution_count": 5,
   "metadata": {
    "scrolled": true
   },
   "outputs": [
    {
     "name": "stdout",
     "output_type": "stream",
     "text": [
      "<class 'pandas.core.frame.DataFrame'>\n",
      "RangeIndex: 228648342 entries, 0 to 228648341\n",
      "Data columns (total 5 columns):\n",
      " #   Column       Dtype\n",
      "---  ------       -----\n",
      " 0   user_id      int64\n",
      " 1   book_id      int64\n",
      " 2   is_read      int64\n",
      " 3   rating       int64\n",
      " 4   is_reviewed  int64\n",
      "dtypes: int64(5)\n",
      "memory usage: 8.5 GB\n"
     ]
    }
   ],
   "source": [
    "ints.info()"
   ]
  },
  {
   "cell_type": "markdown",
   "metadata": {},
   "source": [
    "Out dataset has five numeric columns: `user_id`, `book_id`, `is_read`, `rating`, and `is_reviewed`, which is a boolean flag indicating whether the user also left a review in addition to rating the book. According to the documentation at the [UCSD Book Graph](https://sites.google.com/eng.ucsd.edu/ucsdbookgraph/shelves?authuser=0), a user rating of zero means \"not provided.\""
   ]
  },
  {
   "cell_type": "code",
   "execution_count": 6,
   "metadata": {},
   "outputs": [
    {
     "data": {
      "text/html": [
       "<div>\n",
       "<style scoped>\n",
       "    .dataframe tbody tr th:only-of-type {\n",
       "        vertical-align: middle;\n",
       "    }\n",
       "\n",
       "    .dataframe tbody tr th {\n",
       "        vertical-align: top;\n",
       "    }\n",
       "\n",
       "    .dataframe thead th {\n",
       "        text-align: right;\n",
       "    }\n",
       "</style>\n",
       "<table border=\"1\" class=\"dataframe\">\n",
       "  <thead>\n",
       "    <tr style=\"text-align: right;\">\n",
       "      <th></th>\n",
       "      <th>user_id</th>\n",
       "      <th>book_id</th>\n",
       "      <th>is_read</th>\n",
       "      <th>rating</th>\n",
       "      <th>is_reviewed</th>\n",
       "    </tr>\n",
       "  </thead>\n",
       "  <tbody>\n",
       "    <tr>\n",
       "      <th>0</th>\n",
       "      <td>0</td>\n",
       "      <td>948</td>\n",
       "      <td>1</td>\n",
       "      <td>5</td>\n",
       "      <td>0</td>\n",
       "    </tr>\n",
       "    <tr>\n",
       "      <th>1</th>\n",
       "      <td>0</td>\n",
       "      <td>947</td>\n",
       "      <td>1</td>\n",
       "      <td>5</td>\n",
       "      <td>1</td>\n",
       "    </tr>\n",
       "    <tr>\n",
       "      <th>2</th>\n",
       "      <td>0</td>\n",
       "      <td>946</td>\n",
       "      <td>1</td>\n",
       "      <td>5</td>\n",
       "      <td>0</td>\n",
       "    </tr>\n",
       "    <tr>\n",
       "      <th>3</th>\n",
       "      <td>0</td>\n",
       "      <td>945</td>\n",
       "      <td>1</td>\n",
       "      <td>5</td>\n",
       "      <td>0</td>\n",
       "    </tr>\n",
       "    <tr>\n",
       "      <th>4</th>\n",
       "      <td>0</td>\n",
       "      <td>944</td>\n",
       "      <td>1</td>\n",
       "      <td>5</td>\n",
       "      <td>0</td>\n",
       "    </tr>\n",
       "  </tbody>\n",
       "</table>\n",
       "</div>"
      ],
      "text/plain": [
       "   user_id  book_id  is_read  rating  is_reviewed\n",
       "0        0      948        1       5            0\n",
       "1        0      947        1       5            1\n",
       "2        0      946        1       5            0\n",
       "3        0      945        1       5            0\n",
       "4        0      944        1       5            0"
      ]
     },
     "execution_count": 6,
     "metadata": {},
     "output_type": "execute_result"
    }
   ],
   "source": [
    "ints.head()"
   ]
  },
  {
   "cell_type": "code",
   "execution_count": 7,
   "metadata": {
    "scrolled": true
   },
   "outputs": [
    {
     "data": {
      "text/html": [
       "<div>\n",
       "<style scoped>\n",
       "    .dataframe tbody tr th:only-of-type {\n",
       "        vertical-align: middle;\n",
       "    }\n",
       "\n",
       "    .dataframe tbody tr th {\n",
       "        vertical-align: top;\n",
       "    }\n",
       "\n",
       "    .dataframe thead th {\n",
       "        text-align: right;\n",
       "    }\n",
       "</style>\n",
       "<table border=\"1\" class=\"dataframe\">\n",
       "  <thead>\n",
       "    <tr style=\"text-align: right;\">\n",
       "      <th></th>\n",
       "      <th>user_id</th>\n",
       "      <th>book_id</th>\n",
       "      <th>is_read</th>\n",
       "      <th>rating</th>\n",
       "      <th>is_reviewed</th>\n",
       "    </tr>\n",
       "  </thead>\n",
       "  <tbody>\n",
       "    <tr>\n",
       "      <th>count</th>\n",
       "      <td>2.286483e+08</td>\n",
       "      <td>2.286483e+08</td>\n",
       "      <td>2.286483e+08</td>\n",
       "      <td>2.286483e+08</td>\n",
       "      <td>2.286483e+08</td>\n",
       "    </tr>\n",
       "    <tr>\n",
       "      <th>mean</th>\n",
       "      <td>2.500636e+05</td>\n",
       "      <td>2.015756e+05</td>\n",
       "      <td>4.904090e-01</td>\n",
       "      <td>1.801340e+00</td>\n",
       "      <td>7.093491e-02</td>\n",
       "    </tr>\n",
       "    <tr>\n",
       "      <th>std</th>\n",
       "      <td>1.712713e+05</td>\n",
       "      <td>3.448677e+05</td>\n",
       "      <td>4.999080e-01</td>\n",
       "      <td>2.072672e+00</td>\n",
       "      <td>2.567161e-01</td>\n",
       "    </tr>\n",
       "    <tr>\n",
       "      <th>min</th>\n",
       "      <td>0.000000e+00</td>\n",
       "      <td>0.000000e+00</td>\n",
       "      <td>0.000000e+00</td>\n",
       "      <td>0.000000e+00</td>\n",
       "      <td>0.000000e+00</td>\n",
       "    </tr>\n",
       "    <tr>\n",
       "      <th>25%</th>\n",
       "      <td>1.143010e+05</td>\n",
       "      <td>1.252700e+04</td>\n",
       "      <td>0.000000e+00</td>\n",
       "      <td>0.000000e+00</td>\n",
       "      <td>0.000000e+00</td>\n",
       "    </tr>\n",
       "    <tr>\n",
       "      <th>50%</th>\n",
       "      <td>2.338990e+05</td>\n",
       "      <td>5.034600e+04</td>\n",
       "      <td>0.000000e+00</td>\n",
       "      <td>0.000000e+00</td>\n",
       "      <td>0.000000e+00</td>\n",
       "    </tr>\n",
       "    <tr>\n",
       "      <th>75%</th>\n",
       "      <td>3.581100e+05</td>\n",
       "      <td>2.229240e+05</td>\n",
       "      <td>1.000000e+00</td>\n",
       "      <td>4.000000e+00</td>\n",
       "      <td>0.000000e+00</td>\n",
       "    </tr>\n",
       "    <tr>\n",
       "      <th>max</th>\n",
       "      <td>8.761440e+05</td>\n",
       "      <td>2.360649e+06</td>\n",
       "      <td>1.000000e+00</td>\n",
       "      <td>5.000000e+00</td>\n",
       "      <td>1.000000e+00</td>\n",
       "    </tr>\n",
       "  </tbody>\n",
       "</table>\n",
       "</div>"
      ],
      "text/plain": [
       "            user_id       book_id       is_read        rating   is_reviewed\n",
       "count  2.286483e+08  2.286483e+08  2.286483e+08  2.286483e+08  2.286483e+08\n",
       "mean   2.500636e+05  2.015756e+05  4.904090e-01  1.801340e+00  7.093491e-02\n",
       "std    1.712713e+05  3.448677e+05  4.999080e-01  2.072672e+00  2.567161e-01\n",
       "min    0.000000e+00  0.000000e+00  0.000000e+00  0.000000e+00  0.000000e+00\n",
       "25%    1.143010e+05  1.252700e+04  0.000000e+00  0.000000e+00  0.000000e+00\n",
       "50%    2.338990e+05  5.034600e+04  0.000000e+00  0.000000e+00  0.000000e+00\n",
       "75%    3.581100e+05  2.229240e+05  1.000000e+00  4.000000e+00  0.000000e+00\n",
       "max    8.761440e+05  2.360649e+06  1.000000e+00  5.000000e+00  1.000000e+00"
      ]
     },
     "execution_count": 7,
     "metadata": {},
     "output_type": "execute_result"
    }
   ],
   "source": [
    "ints.describe()"
   ]
  },
  {
   "cell_type": "markdown",
   "metadata": {},
   "source": [
    "No missing values or non-positive integer values (such as missing values coded as -1). We have nearly 229M records."
   ]
  },
  {
   "cell_type": "markdown",
   "metadata": {},
   "source": [
    "To help with memory management, we'll change the dtypes based on these ranges. The ids will fit into 32-bit unsigned integers."
   ]
  },
  {
   "cell_type": "code",
   "execution_count": 8,
   "metadata": {},
   "outputs": [],
   "source": [
    "ints = ints.astype({'user_id': np.uint32,\n",
    "                    'book_id': np.uint32,\n",
    "                    'is_read': np.bool_,\n",
    "                    'rating': np.uint8,\n",
    "                    'is_reviewed': np.bool_,\n",
    "                   })"
   ]
  },
  {
   "cell_type": "code",
   "execution_count": 9,
   "metadata": {
    "scrolled": true
   },
   "outputs": [
    {
     "name": "stdout",
     "output_type": "stream",
     "text": [
      "<class 'pandas.core.frame.DataFrame'>\n",
      "RangeIndex: 228648342 entries, 0 to 228648341\n",
      "Data columns (total 5 columns):\n",
      " #   Column       Dtype \n",
      "---  ------       ----- \n",
      " 0   user_id      uint32\n",
      " 1   book_id      uint32\n",
      " 2   is_read      bool  \n",
      " 3   rating       uint8 \n",
      " 4   is_reviewed  bool  \n",
      "dtypes: bool(2), uint32(2), uint8(1)\n",
      "memory usage: 2.3 GB\n"
     ]
    }
   ],
   "source": [
    "ints.info()"
   ]
  },
  {
   "cell_type": "code",
   "execution_count": 10,
   "metadata": {
    "scrolled": true
   },
   "outputs": [
    {
     "data": {
      "text/html": [
       "<div>\n",
       "<style scoped>\n",
       "    .dataframe tbody tr th:only-of-type {\n",
       "        vertical-align: middle;\n",
       "    }\n",
       "\n",
       "    .dataframe tbody tr th {\n",
       "        vertical-align: top;\n",
       "    }\n",
       "\n",
       "    .dataframe thead th {\n",
       "        text-align: right;\n",
       "    }\n",
       "</style>\n",
       "<table border=\"1\" class=\"dataframe\">\n",
       "  <thead>\n",
       "    <tr style=\"text-align: right;\">\n",
       "      <th></th>\n",
       "      <th>user_id</th>\n",
       "      <th>book_id</th>\n",
       "      <th>rating</th>\n",
       "    </tr>\n",
       "  </thead>\n",
       "  <tbody>\n",
       "    <tr>\n",
       "      <th>count</th>\n",
       "      <td>2.286483e+08</td>\n",
       "      <td>2.286483e+08</td>\n",
       "      <td>2.286483e+08</td>\n",
       "    </tr>\n",
       "    <tr>\n",
       "      <th>mean</th>\n",
       "      <td>2.500636e+05</td>\n",
       "      <td>2.015756e+05</td>\n",
       "      <td>1.801340e+00</td>\n",
       "    </tr>\n",
       "    <tr>\n",
       "      <th>std</th>\n",
       "      <td>1.712713e+05</td>\n",
       "      <td>3.448677e+05</td>\n",
       "      <td>2.072672e+00</td>\n",
       "    </tr>\n",
       "    <tr>\n",
       "      <th>min</th>\n",
       "      <td>0.000000e+00</td>\n",
       "      <td>0.000000e+00</td>\n",
       "      <td>0.000000e+00</td>\n",
       "    </tr>\n",
       "    <tr>\n",
       "      <th>25%</th>\n",
       "      <td>1.143010e+05</td>\n",
       "      <td>1.252700e+04</td>\n",
       "      <td>0.000000e+00</td>\n",
       "    </tr>\n",
       "    <tr>\n",
       "      <th>50%</th>\n",
       "      <td>2.338990e+05</td>\n",
       "      <td>5.034600e+04</td>\n",
       "      <td>0.000000e+00</td>\n",
       "    </tr>\n",
       "    <tr>\n",
       "      <th>75%</th>\n",
       "      <td>3.581100e+05</td>\n",
       "      <td>2.229240e+05</td>\n",
       "      <td>4.000000e+00</td>\n",
       "    </tr>\n",
       "    <tr>\n",
       "      <th>max</th>\n",
       "      <td>8.761440e+05</td>\n",
       "      <td>2.360649e+06</td>\n",
       "      <td>5.000000e+00</td>\n",
       "    </tr>\n",
       "  </tbody>\n",
       "</table>\n",
       "</div>"
      ],
      "text/plain": [
       "            user_id       book_id        rating\n",
       "count  2.286483e+08  2.286483e+08  2.286483e+08\n",
       "mean   2.500636e+05  2.015756e+05  1.801340e+00\n",
       "std    1.712713e+05  3.448677e+05  2.072672e+00\n",
       "min    0.000000e+00  0.000000e+00  0.000000e+00\n",
       "25%    1.143010e+05  1.252700e+04  0.000000e+00\n",
       "50%    2.338990e+05  5.034600e+04  0.000000e+00\n",
       "75%    3.581100e+05  2.229240e+05  4.000000e+00\n",
       "max    8.761440e+05  2.360649e+06  5.000000e+00"
      ]
     },
     "execution_count": 10,
     "metadata": {},
     "output_type": "execute_result"
    }
   ],
   "source": [
    "ints.describe()"
   ]
  },
  {
   "cell_type": "markdown",
   "metadata": {},
   "source": [
    "Still big, but workable! Let's remove any duplicates."
   ]
  },
  {
   "cell_type": "code",
   "execution_count": 11,
   "metadata": {},
   "outputs": [],
   "source": [
    "ints = ints.drop_duplicates()"
   ]
  },
  {
   "cell_type": "markdown",
   "metadata": {},
   "source": [
    "How many users are there? How many books? How many of our interactions records are *not* ratings?"
   ]
  },
  {
   "cell_type": "code",
   "execution_count": 12,
   "metadata": {},
   "outputs": [
    {
     "name": "stdout",
     "output_type": "stream",
     "text": [
      "Number of unique users: (876145,)\n",
      "Number of unique books: (2360650,)\n",
      "Number of non-rating interactions (124096793, 5)\n",
      "% of non-rating interactions 54.27408391179149\n"
     ]
    }
   ],
   "source": [
    "print(\"Number of unique users:\", ints['user_id'].unique().shape)\n",
    "print(\"Number of unique books:\", ints['book_id'].unique().shape)\n",
    "n_nonrating_ints = ints[ints['rating'] == 0].shape\n",
    "print(\"Number of non-rating interactions\", n_nonrating_ints)\n",
    "print(\"% of non-rating interactions\", n_nonrating_ints[0] / ints.shape[0] * 100)"
   ]
  },
  {
   "cell_type": "markdown",
   "metadata": {},
   "source": [
    "So just over half of the interactions are not ratings; the `is_read` interactions may still be useful, so we'll hold onto them. However, collaborative filtering on ratings alone will reduce our dataset by just over half."
   ]
  },
  {
   "cell_type": "markdown",
   "metadata": {},
   "source": [
    "An important decision in collaborative filtering is how many ratings per user we'll need for the ratings to rise above the level of noise. A rule of thumb can be that we want the correctness of our predictions to be statistically significant at some level. Let's look at the distribution of the number of ratings per user."
   ]
  },
  {
   "cell_type": "code",
   "execution_count": 13,
   "metadata": {},
   "outputs": [
    {
     "data": {
      "text/plain": [
       "count    816371.000000\n",
       "mean        128.068671\n",
       "std         237.981617\n",
       "min           1.000000\n",
       "25%          22.000000\n",
       "50%          55.000000\n",
       "75%         141.000000\n",
       "max       38884.000000\n",
       "Name: rating, dtype: float64"
      ]
     },
     "execution_count": 13,
     "metadata": {},
     "output_type": "execute_result"
    }
   ],
   "source": [
    "n_ratings = ints[ints['rating'] != 0].groupby('user_id')['rating'].count()\n",
    "n_ratings.describe()"
   ]
  },
  {
   "cell_type": "markdown",
   "metadata": {},
   "source": [
    "We have 816,000 users with at least one rating. The number of ratings per user is *very* right-skewed, which is to be expected. Let's plot this, too."
   ]
  },
  {
   "cell_type": "code",
   "execution_count": 14,
   "metadata": {},
   "outputs": [
    {
     "data": {
      "text/plain": [
       "user_id\n",
       "0         473\n",
       "1          99\n",
       "2         191\n",
       "3          41\n",
       "4         176\n",
       "         ... \n",
       "876140     11\n",
       "876141     11\n",
       "876142     32\n",
       "876143     23\n",
       "876144     37\n",
       "Name: rating, Length: 816371, dtype: int64"
      ]
     },
     "execution_count": 14,
     "metadata": {},
     "output_type": "execute_result"
    }
   ],
   "source": [
    "n_ratings"
   ]
  },
  {
   "cell_type": "code",
   "execution_count": 15,
   "metadata": {
    "scrolled": true
   },
   "outputs": [
    {
     "data": {
      "image/png": "[encoded data removed]",
      "text/plain": [
       "<Figure size 720x576 with 1 Axes>"
      ]
     },
     "metadata": {
      "needs_background": "light"
     },
     "output_type": "display_data"
    }
   ],
   "source": [
    "sns.histplot(n_ratings, kde=False)\n",
    "plt.xlabel('Ratings per user')\n",
    "plt.title('Histogram of ratings per user');"
   ]
  },
  {
   "cell_type": "markdown",
   "metadata": {},
   "source": [
    "This is hard to read; the log transform of the number of readings will be easier to interpret:"
   ]
  },
  {
   "cell_type": "code",
   "execution_count": 16,
   "metadata": {
    "scrolled": true
   },
   "outputs": [
    {
     "data": {
      "image/png": "[encoded data removed]",
      "text/plain": [
       "<Figure size 720x576 with 1 Axes>"
      ]
     },
     "metadata": {
      "needs_background": "light"
     },
     "output_type": "display_data"
    }
   ],
   "source": [
    "sns.histplot(np.log(n_ratings), kde=False)\n",
    "plt.xlabel('Log ratings per user')\n",
    "plt.title('Histogram of log ratings per user');"
   ]
  },
  {
   "cell_type": "markdown",
   "metadata": {},
   "source": [
    "We can lose the long tail without removing very many values: exp(7) is about three standard deviations above the mean. We can decide how much of the left side to keep based on performance; we would expect performance to decline for sparser users."
   ]
  },
  {
   "cell_type": "markdown",
   "metadata": {},
   "source": [
    "How about ratings per book?"
   ]
  },
  {
   "cell_type": "code",
   "execution_count": 17,
   "metadata": {
    "scrolled": true
   },
   "outputs": [
    {
     "data": {
      "text/plain": [
       "count    2.325541e+06\n",
       "mean     4.495795e+01\n",
       "std      8.255845e+02\n",
       "min      1.000000e+00\n",
       "25%      2.000000e+00\n",
       "50%      4.000000e+00\n",
       "75%      1.300000e+01\n",
       "max      2.811350e+05\n",
       "Name: rating, dtype: float64"
      ]
     },
     "execution_count": 17,
     "metadata": {},
     "output_type": "execute_result"
    }
   ],
   "source": [
    "n_book_ratings = ints[ints['rating'] != 0].groupby('book_id')['rating'].count()\n",
    "n_book_ratings.describe()"
   ]
  },
  {
   "cell_type": "code",
   "execution_count": 18,
   "metadata": {},
   "outputs": [
    {
     "data": {
      "image/png": "[encoded data removed]",
      "text/plain": [
       "<Figure size 720x576 with 1 Axes>"
      ]
     },
     "metadata": {
      "needs_background": "light"
     },
     "output_type": "display_data"
    }
   ],
   "source": [
    "sns.histplot(np.log(n_book_ratings), kde=False)\n",
    "plt.xlabel('Log ratings per book')\n",
    "plt.title('Histogram of log ratings per book');"
   ]
  },
  {
   "cell_type": "markdown",
   "metadata": {},
   "source": [
    "As expected, these have a very long tail as well. We'll keep these for now but will at least try setting a minimum number of ratings to improve performance. We'll also need to be careful to consider which algorithms bias popular books or prolific raters and, when so, whether to control for these in our modeling."
   ]
  },
  {
   "cell_type": "code",
   "execution_count": 21,
   "metadata": {
    "scrolled": true
   },
   "outputs": [],
   "source": [
    "ints = ints.set_index('book_id').merge(n_book_ratings.rename('n_book_ratings'), how='left', left_index=True, right_index=True, copy=False).reset_index()\n",
    "ints = ints.set_index('user_id').merge(n_ratings.rename('n_ratings'), how='left', left_index=True, right_index=True, copy=False).reset_index()"
   ]
  },
  {
   "cell_type": "code",
   "execution_count": 22,
   "metadata": {},
   "outputs": [],
   "source": [
    "ints = ints.fillna({'n_ratings': 0, 'n_book_ratings': 0})"
   ]
  },
  {
   "cell_type": "code",
   "execution_count": 23,
   "metadata": {},
   "outputs": [],
   "source": [
    "ints = ints.astype({\n",
    "    'n_ratings': np.uint32,\n",
    "    'n_book_ratings': np.uint64\n",
    "})"
   ]
  },
  {
   "cell_type": "code",
   "execution_count": 24,
   "metadata": {},
   "outputs": [
    {
     "data": {
      "text/html": [
       "<div>\n",
       "<style scoped>\n",
       "    .dataframe tbody tr th:only-of-type {\n",
       "        vertical-align: middle;\n",
       "    }\n",
       "\n",
       "    .dataframe tbody tr th {\n",
       "        vertical-align: top;\n",
       "    }\n",
       "\n",
       "    .dataframe thead th {\n",
       "        text-align: right;\n",
       "    }\n",
       "</style>\n",
       "<table border=\"1\" class=\"dataframe\">\n",
       "  <thead>\n",
       "    <tr style=\"text-align: right;\">\n",
       "      <th></th>\n",
       "      <th>user_id</th>\n",
       "      <th>book_id</th>\n",
       "      <th>is_read</th>\n",
       "      <th>rating</th>\n",
       "      <th>is_reviewed</th>\n",
       "      <th>n_book_ratings</th>\n",
       "      <th>n_ratings</th>\n",
       "    </tr>\n",
       "  </thead>\n",
       "  <tbody>\n",
       "    <tr>\n",
       "      <th>0</th>\n",
       "      <td>0</td>\n",
       "      <td>0</td>\n",
       "      <td>False</td>\n",
       "      <td>0</td>\n",
       "      <td>False</td>\n",
       "      <td>14</td>\n",
       "      <td>473</td>\n",
       "    </tr>\n",
       "    <tr>\n",
       "      <th>1</th>\n",
       "      <td>0</td>\n",
       "      <td>1</td>\n",
       "      <td>False</td>\n",
       "      <td>0</td>\n",
       "      <td>False</td>\n",
       "      <td>19</td>\n",
       "      <td>473</td>\n",
       "    </tr>\n",
       "    <tr>\n",
       "      <th>2</th>\n",
       "      <td>0</td>\n",
       "      <td>2</td>\n",
       "      <td>False</td>\n",
       "      <td>0</td>\n",
       "      <td>False</td>\n",
       "      <td>1</td>\n",
       "      <td>473</td>\n",
       "    </tr>\n",
       "    <tr>\n",
       "      <th>3</th>\n",
       "      <td>0</td>\n",
       "      <td>3</td>\n",
       "      <td>False</td>\n",
       "      <td>0</td>\n",
       "      <td>False</td>\n",
       "      <td>514</td>\n",
       "      <td>473</td>\n",
       "    </tr>\n",
       "    <tr>\n",
       "      <th>4</th>\n",
       "      <td>0</td>\n",
       "      <td>4</td>\n",
       "      <td>False</td>\n",
       "      <td>0</td>\n",
       "      <td>False</td>\n",
       "      <td>4</td>\n",
       "      <td>473</td>\n",
       "    </tr>\n",
       "  </tbody>\n",
       "</table>\n",
       "</div>"
      ],
      "text/plain": [
       "   user_id  book_id  is_read  rating  is_reviewed  n_book_ratings  n_ratings\n",
       "0        0        0    False       0        False              14        473\n",
       "1        0        1    False       0        False              19        473\n",
       "2        0        2    False       0        False               1        473\n",
       "3        0        3    False       0        False             514        473\n",
       "4        0        4    False       0        False               4        473"
      ]
     },
     "execution_count": 24,
     "metadata": {},
     "output_type": "execute_result"
    }
   ],
   "source": [
    "ints.head()"
   ]
  },
  {
   "cell_type": "markdown",
   "metadata": {},
   "source": [
    "The dataset comes with some metadata as well; these don't provide much by way of augmentation. It does provide author ids, which may be useful in modeling. Unfortunately, the metadata is in a rather inconvenient (for our purposes) nested json; let's pull out any data we might use and save it as a CSV."
   ]
  },
  {
   "cell_type": "code",
   "execution_count": 25,
   "metadata": {},
   "outputs": [],
   "source": [
    "keys = ['isbn', 'title', 'url', 'image_url', 'book_id', 'authors']\n",
    "read_filename = '/Volumes/LittleJim/Datasets/goodreads/goodreads_books.json'\n",
    "write_filename = '/Volumes/LittleJim/Datasets/goodreads/goodreads_books_selected.csv'"
   ]
  },
  {
   "cell_type": "code",
   "execution_count": 26,
   "metadata": {},
   "outputs": [],
   "source": [
    "def books_json_to_csv_extract(keys, read_filename, write_filename, mode='a', chunk=100000):\n",
    "    c, t = 0, 0\n",
    "    lines = []\n",
    "    with jsonlines.open(read_filename) as reader:\n",
    "        for obj in reader:\n",
    "            selected = []\n",
    "            for k in keys:\n",
    "                if k in obj:\n",
    "                    if k == 'authors':\n",
    "                        result = get_first_author(obj[k])\n",
    "                    else:\n",
    "                        result = obj[k].replace('\\t', ' ')\n",
    "                else:\n",
    "                    result = -1\n",
    "                selected.append(result)\n",
    "            lines.append('\\t'.join(selected) + '\\n')\n",
    "            if c == chunk:\n",
    "                c = 0\n",
    "                print(t, lines[-1])\n",
    "                with open(write_filename, mode) as writer:\n",
    "                    writer.writelines(lines)\n",
    "                lines = []\n",
    "            c += 1\n",
    "            t += 1\n",
    "    return None\n",
    "\n",
    "def get_first_author(authors_list_of_dicts):\n",
    "    if authors_list_of_dicts and authors_list_of_dicts != -1:\n",
    "        return authors_list_of_dicts[0]['author_id']\n",
    "    return '-1'"
   ]
  },
  {
   "cell_type": "code",
   "execution_count": 27,
   "metadata": {},
   "outputs": [],
   "source": [
    "# books_json_to_csv_extract(keys, read_filename, write_filename)  # We only need to do this once."
   ]
  },
  {
   "cell_type": "code",
   "execution_count": 28,
   "metadata": {},
   "outputs": [],
   "source": [
    "books_columns = ['isbn', 'title', 'url', 'image_url', 'book_id', 'author_id']\n",
    "books_dtypes = {'isbn': 'str',\n",
    "                'title': 'str',\n",
    "                'url': 'str',\n",
    "                'image_url': 'str',\n",
    "                'book_id': 'Int64',\n",
    "                'author_id': 'Int64',\n",
    "               }\n",
    "\n",
    "books_meta = pd.read_csv('/Volumes/LittleJim/Datasets/goodreads/goodreads_books_selected.csv', sep='\\t', header=None, index_col=False, names=books_columns, dtype=books_dtypes, na_values=-1)"
   ]
  },
  {
   "cell_type": "code",
   "execution_count": 29,
   "metadata": {},
   "outputs": [
    {
     "data": {
      "text/html": [
       "<div>\n",
       "<style scoped>\n",
       "    .dataframe tbody tr th:only-of-type {\n",
       "        vertical-align: middle;\n",
       "    }\n",
       "\n",
       "    .dataframe tbody tr th {\n",
       "        vertical-align: top;\n",
       "    }\n",
       "\n",
       "    .dataframe thead th {\n",
       "        text-align: right;\n",
       "    }\n",
       "</style>\n",
       "<table border=\"1\" class=\"dataframe\">\n",
       "  <thead>\n",
       "    <tr style=\"text-align: right;\">\n",
       "      <th></th>\n",
       "      <th>isbn</th>\n",
       "      <th>title</th>\n",
       "      <th>url</th>\n",
       "      <th>image_url</th>\n",
       "      <th>book_id</th>\n",
       "      <th>author_id</th>\n",
       "    </tr>\n",
       "  </thead>\n",
       "  <tbody>\n",
       "    <tr>\n",
       "      <th>0</th>\n",
       "      <td>0312853122</td>\n",
       "      <td>W.C. Fields: A Life on Film</td>\n",
       "      <td>https://www.goodreads.com/book/show/5333265-w-...</td>\n",
       "      <td>https://images.gr-assets.com/books/1310220028m...</td>\n",
       "      <td>5333265</td>\n",
       "      <td>604031</td>\n",
       "    </tr>\n",
       "    <tr>\n",
       "      <th>1</th>\n",
       "      <td>0743509986</td>\n",
       "      <td>Good Harbor</td>\n",
       "      <td>https://www.goodreads.com/book/show/1333909.Go...</td>\n",
       "      <td>https://s.gr-assets.com/assets/nophoto/book/11...</td>\n",
       "      <td>1333909</td>\n",
       "      <td>626222</td>\n",
       "    </tr>\n",
       "    <tr>\n",
       "      <th>2</th>\n",
       "      <td>NaN</td>\n",
       "      <td>The Unschooled Wizard (Sun Wolf and Starhawk, ...</td>\n",
       "      <td>https://www.goodreads.com/book/show/7327624-th...</td>\n",
       "      <td>https://images.gr-assets.com/books/1304100136m...</td>\n",
       "      <td>7327624</td>\n",
       "      <td>10333</td>\n",
       "    </tr>\n",
       "    <tr>\n",
       "      <th>3</th>\n",
       "      <td>0743294297</td>\n",
       "      <td>Best Friends Forever</td>\n",
       "      <td>https://www.goodreads.com/book/show/6066819-be...</td>\n",
       "      <td>https://s.gr-assets.com/assets/nophoto/book/11...</td>\n",
       "      <td>6066819</td>\n",
       "      <td>9212</td>\n",
       "    </tr>\n",
       "    <tr>\n",
       "      <th>4</th>\n",
       "      <td>0850308712</td>\n",
       "      <td>Runic Astrology: Starcraft and Timekeeping in ...</td>\n",
       "      <td>https://www.goodreads.com/book/show/287140.Run...</td>\n",
       "      <td>https://images.gr-assets.com/books/1413219371m...</td>\n",
       "      <td>287140</td>\n",
       "      <td>149918</td>\n",
       "    </tr>\n",
       "  </tbody>\n",
       "</table>\n",
       "</div>"
      ],
      "text/plain": [
       "         isbn                                              title  \\\n",
       "0  0312853122                        W.C. Fields: A Life on Film   \n",
       "1  0743509986                                        Good Harbor   \n",
       "2         NaN  The Unschooled Wizard (Sun Wolf and Starhawk, ...   \n",
       "3  0743294297                               Best Friends Forever   \n",
       "4  0850308712  Runic Astrology: Starcraft and Timekeeping in ...   \n",
       "\n",
       "                                                 url  \\\n",
       "0  https://www.goodreads.com/book/show/5333265-w-...   \n",
       "1  https://www.goodreads.com/book/show/1333909.Go...   \n",
       "2  https://www.goodreads.com/book/show/7327624-th...   \n",
       "3  https://www.goodreads.com/book/show/6066819-be...   \n",
       "4  https://www.goodreads.com/book/show/287140.Run...   \n",
       "\n",
       "                                           image_url  book_id  author_id  \n",
       "0  https://images.gr-assets.com/books/1310220028m...  5333265     604031  \n",
       "1  https://s.gr-assets.com/assets/nophoto/book/11...  1333909     626222  \n",
       "2  https://images.gr-assets.com/books/1304100136m...  7327624      10333  \n",
       "3  https://s.gr-assets.com/assets/nophoto/book/11...  6066819       9212  \n",
       "4  https://images.gr-assets.com/books/1413219371m...   287140     149918  "
      ]
     },
     "execution_count": 29,
     "metadata": {},
     "output_type": "execute_result"
    }
   ],
   "source": [
    "books_meta.head()"
   ]
  },
  {
   "cell_type": "markdown",
   "metadata": {},
   "source": [
    "Finally, these `book_id` values are the internal *Goodreads* ids; they don't match the `book_id` in the interactions dataset. We must also load the mapping of `book_id` values in the interactions dataset to the `book_id` values in the metadata."
   ]
  },
  {
   "cell_type": "code",
   "execution_count": 30,
   "metadata": {},
   "outputs": [
    {
     "name": "stdout",
     "output_type": "stream",
     "text": [
      "<class 'pandas.core.frame.DataFrame'>\n",
      "RangeIndex: 2297147 entries, 0 to 2297146\n",
      "Data columns (total 6 columns):\n",
      " #   Column     Dtype \n",
      "---  ------     ----- \n",
      " 0   isbn       object\n",
      " 1   title      object\n",
      " 2   url        object\n",
      " 3   image_url  object\n",
      " 4   book_id    Int64 \n",
      " 5   author_id  Int64 \n",
      "dtypes: Int64(2), object(4)\n",
      "memory usage: 109.5+ MB\n"
     ]
    }
   ],
   "source": [
    "books_meta.info()"
   ]
  },
  {
   "cell_type": "code",
   "execution_count": 31,
   "metadata": {},
   "outputs": [
    {
     "data": {
      "text/html": [
       "<div>\n",
       "<style scoped>\n",
       "    .dataframe tbody tr th:only-of-type {\n",
       "        vertical-align: middle;\n",
       "    }\n",
       "\n",
       "    .dataframe tbody tr th {\n",
       "        vertical-align: top;\n",
       "    }\n",
       "\n",
       "    .dataframe thead th {\n",
       "        text-align: right;\n",
       "    }\n",
       "</style>\n",
       "<table border=\"1\" class=\"dataframe\">\n",
       "  <thead>\n",
       "    <tr style=\"text-align: right;\">\n",
       "      <th></th>\n",
       "      <th>book_id_csv</th>\n",
       "    </tr>\n",
       "    <tr>\n",
       "      <th>book_id</th>\n",
       "      <th></th>\n",
       "    </tr>\n",
       "  </thead>\n",
       "  <tbody>\n",
       "    <tr>\n",
       "      <th>34684622</th>\n",
       "      <td>0</td>\n",
       "    </tr>\n",
       "    <tr>\n",
       "      <th>34536488</th>\n",
       "      <td>1</td>\n",
       "    </tr>\n",
       "    <tr>\n",
       "      <th>34017076</th>\n",
       "      <td>2</td>\n",
       "    </tr>\n",
       "    <tr>\n",
       "      <th>71730</th>\n",
       "      <td>3</td>\n",
       "    </tr>\n",
       "    <tr>\n",
       "      <th>30422361</th>\n",
       "      <td>4</td>\n",
       "    </tr>\n",
       "  </tbody>\n",
       "</table>\n",
       "</div>"
      ],
      "text/plain": [
       "          book_id_csv\n",
       "book_id              \n",
       "34684622            0\n",
       "34536488            1\n",
       "34017076            2\n",
       "71730               3\n",
       "30422361            4"
      ]
     },
     "execution_count": 31,
     "metadata": {},
     "output_type": "execute_result"
    }
   ],
   "source": [
    "book_id_map = pd.read_csv('/Volumes/LittleJim/Datasets/goodreads/book_id_map.csv').set_index('book_id')\n",
    "book_id_map.head()"
   ]
  },
  {
   "cell_type": "markdown",
   "metadata": {},
   "source": [
    "We'll add this mapping to the metadata:"
   ]
  },
  {
   "cell_type": "code",
   "execution_count": 32,
   "metadata": {},
   "outputs": [],
   "source": [
    "books_meta = books_meta.set_index('book_id')\n",
    "books_meta['book_id_csv'] = book_id_map['book_id_csv'].copy()\n",
    "books_meta = books_meta.dropna(subset=['book_id_csv'])\n",
    "books_meta['book_id_csv'] = books_meta['book_id_csv'].astype(np.uint64)\n",
    "books_meta = books_meta.reset_index()"
   ]
  },
  {
   "cell_type": "code",
   "execution_count": 33,
   "metadata": {
    "scrolled": true
   },
   "outputs": [
    {
     "data": {
      "text/html": [
       "<div>\n",
       "<style scoped>\n",
       "    .dataframe tbody tr th:only-of-type {\n",
       "        vertical-align: middle;\n",
       "    }\n",
       "\n",
       "    .dataframe tbody tr th {\n",
       "        vertical-align: top;\n",
       "    }\n",
       "\n",
       "    .dataframe thead th {\n",
       "        text-align: right;\n",
       "    }\n",
       "</style>\n",
       "<table border=\"1\" class=\"dataframe\">\n",
       "  <thead>\n",
       "    <tr style=\"text-align: right;\">\n",
       "      <th></th>\n",
       "      <th>book_id</th>\n",
       "      <th>isbn</th>\n",
       "      <th>title</th>\n",
       "      <th>url</th>\n",
       "      <th>image_url</th>\n",
       "      <th>author_id</th>\n",
       "      <th>book_id_csv</th>\n",
       "    </tr>\n",
       "  </thead>\n",
       "  <tbody>\n",
       "    <tr>\n",
       "      <th>0</th>\n",
       "      <td>5333265</td>\n",
       "      <td>0312853122</td>\n",
       "      <td>W.C. Fields: A Life on Film</td>\n",
       "      <td>https://www.goodreads.com/book/show/5333265-w-...</td>\n",
       "      <td>https://images.gr-assets.com/books/1310220028m...</td>\n",
       "      <td>604031</td>\n",
       "      <td>1950356</td>\n",
       "    </tr>\n",
       "    <tr>\n",
       "      <th>1</th>\n",
       "      <td>1333909</td>\n",
       "      <td>0743509986</td>\n",
       "      <td>Good Harbor</td>\n",
       "      <td>https://www.goodreads.com/book/show/1333909.Go...</td>\n",
       "      <td>https://s.gr-assets.com/assets/nophoto/book/11...</td>\n",
       "      <td>626222</td>\n",
       "      <td>2084644</td>\n",
       "    </tr>\n",
       "    <tr>\n",
       "      <th>2</th>\n",
       "      <td>7327624</td>\n",
       "      <td>NaN</td>\n",
       "      <td>The Unschooled Wizard (Sun Wolf and Starhawk, ...</td>\n",
       "      <td>https://www.goodreads.com/book/show/7327624-th...</td>\n",
       "      <td>https://images.gr-assets.com/books/1304100136m...</td>\n",
       "      <td>10333</td>\n",
       "      <td>740362</td>\n",
       "    </tr>\n",
       "    <tr>\n",
       "      <th>3</th>\n",
       "      <td>6066819</td>\n",
       "      <td>0743294297</td>\n",
       "      <td>Best Friends Forever</td>\n",
       "      <td>https://www.goodreads.com/book/show/6066819-be...</td>\n",
       "      <td>https://s.gr-assets.com/assets/nophoto/book/11...</td>\n",
       "      <td>9212</td>\n",
       "      <td>14854</td>\n",
       "    </tr>\n",
       "    <tr>\n",
       "      <th>4</th>\n",
       "      <td>287140</td>\n",
       "      <td>0850308712</td>\n",
       "      <td>Runic Astrology: Starcraft and Timekeeping in ...</td>\n",
       "      <td>https://www.goodreads.com/book/show/287140.Run...</td>\n",
       "      <td>https://images.gr-assets.com/books/1413219371m...</td>\n",
       "      <td>149918</td>\n",
       "      <td>979469</td>\n",
       "    </tr>\n",
       "  </tbody>\n",
       "</table>\n",
       "</div>"
      ],
      "text/plain": [
       "   book_id        isbn                                              title  \\\n",
       "0  5333265  0312853122                        W.C. Fields: A Life on Film   \n",
       "1  1333909  0743509986                                        Good Harbor   \n",
       "2  7327624         NaN  The Unschooled Wizard (Sun Wolf and Starhawk, ...   \n",
       "3  6066819  0743294297                               Best Friends Forever   \n",
       "4   287140  0850308712  Runic Astrology: Starcraft and Timekeeping in ...   \n",
       "\n",
       "                                                 url  \\\n",
       "0  https://www.goodreads.com/book/show/5333265-w-...   \n",
       "1  https://www.goodreads.com/book/show/1333909.Go...   \n",
       "2  https://www.goodreads.com/book/show/7327624-th...   \n",
       "3  https://www.goodreads.com/book/show/6066819-be...   \n",
       "4  https://www.goodreads.com/book/show/287140.Run...   \n",
       "\n",
       "                                           image_url  author_id  book_id_csv  \n",
       "0  https://images.gr-assets.com/books/1310220028m...     604031      1950356  \n",
       "1  https://s.gr-assets.com/assets/nophoto/book/11...     626222      2084644  \n",
       "2  https://images.gr-assets.com/books/1304100136m...      10333       740362  \n",
       "3  https://s.gr-assets.com/assets/nophoto/book/11...       9212        14854  \n",
       "4  https://images.gr-assets.com/books/1413219371m...     149918       979469  "
      ]
     },
     "execution_count": 33,
     "metadata": {},
     "output_type": "execute_result"
    }
   ],
   "source": [
    "books_meta.head()"
   ]
  },
  {
   "cell_type": "markdown",
   "metadata": {},
   "source": [
    "Finally, we'll save our transformed data and metadata:"
   ]
  },
  {
   "cell_type": "code",
   "execution_count": 34,
   "metadata": {},
   "outputs": [],
   "source": [
    "ints.to_hdf('goodreads_interactions_preprocessed.h5', key='ints', mode='w')\n",
    "books_meta.to_csv('goodreads_interactions_metadata_preprocessed.csv.gz')"
   ]
  }
 ],
 "metadata": {
  "kernelspec": {
   "display_name": "sb",
   "language": "python",
   "name": "sb"
  },
  "language_info": {
   "codemirror_mode": {
    "name": "ipython",
    "version": 3
   },
   "file_extension": ".py",
   "mimetype": "text/x-python",
   "name": "python",
   "nbconvert_exporter": "python",
   "pygments_lexer": "ipython3",
   "version": "3.8.3"
  }
 },
 "nbformat": 4,
 "nbformat_minor": 4
}
